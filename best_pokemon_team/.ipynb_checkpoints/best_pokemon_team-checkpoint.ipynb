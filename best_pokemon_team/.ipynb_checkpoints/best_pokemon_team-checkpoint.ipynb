{
 "cells": [
  {
   "cell_type": "markdown",
   "metadata": {},
   "source": [
    "# Best Pokemon Team EVER\n",
    "\n",
    "When I was younger, I discover the pokemon universe by playing \"Pokemon Diamond\" on Nintendo DS. And before catching a pokemon, I always ask myself : \"Is this pokemon going to make my team stronger ?\". Because your team is limited. You can only have 6 pokemon at max, so you have to choose which pokemon goes on your team carefully.\n",
    "\n",
    "At that time I only choose pokemon who looks strong or had capabilities that I thought were strong. Today I will, once and for all, takle the question **\"What are the best 6 pokemons to have on your team to beat every other player ?\"** by looking at the actual data of the pokemon!"
   ]
  },
  {
   "cell_type": "markdown",
   "metadata": {},
   "source": [
    "## Pokemon theory\n",
    "\n",
    "If you're not familiar with the way of how pokemon works, each pokemon have a type. There are grass pokemon, fire pokemon, water pokemon, etc... One type can beats other types and are beaten by other other types. For example; plant pokemon are weak against fire pokemon, which in turn are weak against water pokmon which in turn are weak against plant pokemon. This is the weakness system.\n",
    "\n",
    "This system can be complex, this is how it's implemented in pokemon :\n",
    "\n",
    "<p align=\"center\">\n",
    "  <img width=\"460\" height=\"300\" src=\"http://www.gamesprecipice.com/wp-content/uploads/2014/01/pokemon.png\">\n",
    "</p>\n",
    "\n",
    "A pokemon has also other characteristics that are not specific to it's type (health, attack...)."
   ]
  },
  {
   "cell_type": "markdown",
   "metadata": {},
   "source": [
    "### PokeMath\n",
    "\n",
    "The formulae to calculate the amount of damage that a pokemon deal can be found [here](https://pokemon.fandom.com/wiki/Damage_Calculation).\n",
    "\n",
    "In order to define is a pokemon is better than another we will introduce a metrics which count the number of turns that a pokemon would be able to stand against an opponent. Because I want to capture if a pokemon might be able to beat two other pokemon.\n",
    "\n",
    "In this document I will assume that pokemons are only using their basic attack and no object. It will make the calculation much simpler.\n",
    "\n",
    "This ‘turns that a pokemon lasts’ metric is defined by the following formulae:\n",
    "$$T_{ij} = \\frac{HP_{i}}{DMG_{ji}}$$\n",
    "where:\n",
    "- $T_{ij}$ is the number of turns that pokemon $i$ will survive to the opponent $j$ if it were to be attacked indefinately.\n",
    "- $HP_i$ is the amount of health point that pokemon $i$ has.\n",
    "- $DMG_{ji}$ is the amount of damage that a basic attack of pokemon $j$ would deal to pokemon $i$.\n",
    "\n",
    "$DMG_{ji}$ is defined as follow:\n",
    "$$DMG_{ji} = \\frac{2 \\times Level_j + 10}{250} \\times \\frac{Attack_j}{Defense_i} \\times w_{ji}$$\n",
    "where:\n",
    "- $Level_a$ is the level of the pokemon $a$.\n",
    "- $Attack_a$ is the attack power of pokemon $a$.\n",
    "- $Defense_a$ is the defensive power od pokemon $a$.\n",
    "- $w_{ab}$ is the weakness coefficient between pokemon $a$ and $b$."
   ]
  },
  {
   "cell_type": "markdown",
   "metadata": {},
   "source": [
    "## Some code"
   ]
  },
  {
   "cell_type": "markdown",
   "metadata": {},
   "source": [
    "### Setup the environment"
   ]
  },
  {
   "cell_type": "code",
   "execution_count": 2,
   "metadata": {},
   "outputs": [],
   "source": [
    "import pandas as pd\n",
    "import numpy as np\n",
    "import matplotlib.pyplot as plt"
   ]
  },
  {
   "cell_type": "code",
   "execution_count": 3,
   "metadata": {},
   "outputs": [
    {
     "name": "stdout",
     "output_type": "stream",
     "text": [
      "After init_pipe(), dataframe shape is (801, 41)\n",
      "After clean_data(), dataframe shape is (151, 24)\n"
     ]
    }
   ],
   "source": [
    "# Data come from https://www.kaggle.com/rounakbanik/pokemon\n",
    "df = pd.read_csv(\"C:/Users/Paul Eudeline/workspace/best_pokemon_team/pokemon.csv\")\n",
    "\n",
    "def loggg(f):\n",
    "    def wrapper(dataframe, *args, **kwargs):\n",
    "        after_f_dataframe = f(dataframe, *args, **kwargs)\n",
    "        print(f'After {f.__name__}(), dataframe shape is {after_f_dataframe.shape}')\n",
    "        return after_f_dataframe\n",
    "    return wrapper\n",
    "\n",
    "@loggg\n",
    "def init_pipe(dataframe):\n",
    "    return dataframe.copy()\n",
    "\n",
    "@loggg\n",
    "def clean_data(dataframe, n=40):\n",
    "    weakness_dataframe = dataframe.filter(regex='^against_').rename(columns={'against_fight': 'against_fighting'})\n",
    "    pokemon_dataframe = dataframe[[\"name\", \"type1\", \"type2\", \"attack\", \"defense\", \"hp\"]]\n",
    "    return pd.concat([pokemon_dataframe, weakness_dataframe], axis=1).iloc[:n].drop_duplicates().fillna(False)\n",
    "\n",
    "df_pokemon = (df\n",
    "              .pipe(init_pipe)\n",
    "              .pipe(clean_data, n=151)\n",
    "             )\n",
    "\n",
    "df_pokemon_sort_by_type = df_pokemon.sort_values(['type1', 'type2'])"
   ]
  },
  {
   "cell_type": "markdown",
   "metadata": {},
   "source": [
    "### Compute the number of turns that a pokemon stands against another"
   ]
  },
  {
   "cell_type": "code",
   "execution_count": 4,
   "metadata": {},
   "outputs": [],
   "source": [
    "# We say level always = 100\n",
    "pokemon_level = 100\n",
    "\n",
    "def fight(pokemon_i, pokemon_j, debug=False):\n",
    "    \"\"\"It calculates the number of turns that pokemon i can stand against pokemon j\"\"\"\n",
    "    attack_j = df_pokemon.at[pokemon_j, 'attack']\n",
    "    \n",
    "    hp_i = df_pokemon.at[pokemon_i, 'hp']\n",
    "    defense_i = df_pokemon.at[pokemon_i, 'defense']\n",
    "    type1_j = df_pokemon.at[pokemon_j, 'type1']\n",
    "    type2_j = df_pokemon.at[pokemon_j, 'type2']\n",
    "        \n",
    "    if type2_j:\n",
    "        weakness_factor = max(\n",
    "            df_pokemon.at[pokemon_i, f'against_{type1_j}'],\n",
    "            df_pokemon.at[pokemon_i, f'against_{type2_j}']\n",
    "        )\n",
    "    else:\n",
    "        weakness_factor = df_pokemon.at[pokemon_i, f'against_{type1_j}']\n",
    "        \n",
    "    dmg_ji = ((2 * pokemon_level + 10) / 250) * 80 * (attack_j / defense_i) * weakness_factor\n",
    "    if dmg_ji == 0: return np.NaN\n",
    "    \n",
    "    if debug: print(f\"{df_pokemon.at[pokemon_i, 'name']} can last {hp_i / dmg_ji} turns againt {df_pokemon.at[pokemon_j, 'name']}\")\n",
    "    return hp_i / dmg_ji"
   ]
  },
  {
   "cell_type": "code",
   "execution_count": null,
   "metadata": {},
   "outputs": [],
   "source": [
    "n_pokemon = df_pokemon.shape[0]\n",
    "n_turn_matrix = pd.DataFrame(\n",
    "    np.zeros((n_pokemon, n_pokemon)),\n",
    "    index=df_pokemon['name'],\n",
    "    columns=df_pokemon['name']\n",
    ")\n",
    "\n",
    "for pokemon_i in df_pokemon.index:\n",
    "    for pokemon_j in df_pokemon.index:            \n",
    "        n_turn_matrix.at[df_pokemon.at[pokemon_i, 'name'], df_pokemon.at[pokemon_j, 'name']] = fight(pokemon_i, pokemon_j)"
   ]
  },
  {
   "cell_type": "markdown",
   "metadata": {},
   "source": [
    "### Show the results"
   ]
  },
  {
   "cell_type": "code",
   "execution_count": null,
   "metadata": {},
   "outputs": [],
   "source": [
    "def draw_fight_matrix(matrix):\n",
    "    fig, ax = plt.subplots(figsize = (50, 50))\n",
    "    im = ax.imshow(matrix.values, cmap=plt.get_cmap(\"RdYlGn\", 30))\n",
    "\n",
    "    cbar = ax.figure.colorbar(im, ax=ax)\n",
    "\n",
    "    # We want to show all ticks...\n",
    "    ax.set_xticks(np.arange(df_pokemon.shape[0]))\n",
    "    ax.set_yticks(np.arange(df_pokemon.shape[0]))\n",
    "    # ... and label them with the respective list entries\n",
    "    ax.set_xticklabels(matrix.columns)\n",
    "    ax.set_yticklabels(matrix.index)\n",
    "\n",
    "    # Rotate the tick labels and set their alignment.\n",
    "    plt.setp(ax.get_xticklabels(), rotation=90, ha=\"right\",\n",
    "             rotation_mode=\"anchor\")\n",
    "\n",
    "    ax.set_title(\"Matrix of battles between pokemons\")\n",
    "    fig.tight_layout()\n",
    "    plt.savefig(\"pokemon_comparator.jpeg\")\n",
    "    plt.show()"
   ]
  },
  {
   "cell_type": "markdown",
   "metadata": {},
   "source": [
    "A green cell indicates that the row will win from the column, a red cell indicates that the row will loose."
   ]
  },
  {
   "cell_type": "code",
   "execution_count": null,
   "metadata": {},
   "outputs": [],
   "source": [
    "# When the pokemon can't be beat, we replace the number of turns by\n",
    "# the maximum number of turns that he can do\n",
    "n_turn_matrix = n_turn_matrix.fillna(n_turn_matrix.T.max())\n",
    "\n",
    "power_matrix = n_turn_matrix - n_turn_matrix.T\n",
    "draw_fight_matrix(power_matrix)"
   ]
  },
  {
   "cell_type": "markdown",
   "metadata": {},
   "source": [
    "Immediately you should be able to see that a few pokemon will rarely win (this corresponds to a horizontal red line)."
   ]
  },
  {
   "cell_type": "code",
   "execution_count": null,
   "metadata": {},
   "outputs": [],
   "source": [
    "compare = pd.concat([\n",
    "    power_matrix.T.mean(),\n",
    "    power_matrix.T.std(),\n",
    "    power_matrix.T.median()\n",
    "    ], axis=1).rename(columns={0: 'Mean', 1: 'Std', 2: 'Median'})"
   ]
  },
  {
   "cell_type": "code",
   "execution_count": null,
   "metadata": {},
   "outputs": [],
   "source": [
    "compare.sort_values(['Mean', 'Std'], ascending=False).head(20)"
   ]
  },
  {
   "cell_type": "code",
   "execution_count": null,
   "metadata": {},
   "outputs": [],
   "source": [
    "c = compare[compare['Mean'] > 0].head(30)\n",
    "plt.scatter(c['Std'] ** 2, c['Mean'])\n",
    "plt.xlabel(\"std\")\n",
    "plt.ylabel(\"mean\")\n",
    "plt.show()"
   ]
  },
  {
   "cell_type": "code",
   "execution_count": null,
   "metadata": {},
   "outputs": [],
   "source": []
  }
 ],
 "metadata": {
  "kernelspec": {
   "display_name": "Python 3",
   "language": "python",
   "name": "python3"
  },
  "language_info": {
   "codemirror_mode": {
    "name": "ipython",
    "version": 3
   },
   "file_extension": ".py",
   "mimetype": "text/x-python",
   "name": "python",
   "nbconvert_exporter": "python",
   "pygments_lexer": "ipython3",
   "version": "3.7.4"
  }
 },
 "nbformat": 4,
 "nbformat_minor": 4
}
